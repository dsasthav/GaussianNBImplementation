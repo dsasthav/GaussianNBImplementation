{
 "cells": [
  {
   "cell_type": "code",
   "execution_count": 1,
   "metadata": {
    "collapsed": true
   },
   "outputs": [],
   "source": [
    "import pandas as pd\n",
    "import numpy as np\n",
    "from sklearn.cross_validation import train_test_split"
   ]
  },
  {
   "cell_type": "code",
   "execution_count": 2,
   "metadata": {
    "collapsed": true
   },
   "outputs": [],
   "source": [
    "df = pd.read_csv(\"Diabetes.csv\")"
   ]
  },
  {
   "cell_type": "markdown",
   "metadata": {},
   "source": [
    "This model will only be used as a classifier because the predicted probabilities aren't reliable for Naive Bayes anyway."
   ]
  },
  {
   "cell_type": "code",
   "execution_count": 3,
   "metadata": {
    "collapsed": true
   },
   "outputs": [],
   "source": [
    "# Split data set into testing and training\n",
    "train, test = train_test_split(df, test_size = 0.1)"
   ]
  },
  {
   "cell_type": "code",
   "execution_count": 4,
   "metadata": {
    "collapsed": true
   },
   "outputs": [],
   "source": [
    "target = \"Class\"\n",
    "\n",
    "X = train.ix[:,df.columns != target]\n",
    "Y = train[target]"
   ]
  },
  {
   "cell_type": "code",
   "execution_count": 5,
   "metadata": {
    "collapsed": false
   },
   "outputs": [],
   "source": [
    "# Split data into classes\n",
    "separated = dict() # dict of dataframes--> target_val : dataframe\n",
    "for val in np.unique(Y):\n",
    "    separated[val] = df[df[target] == val]"
   ]
  },
  {
   "cell_type": "code",
   "execution_count": 6,
   "metadata": {
    "collapsed": true
   },
   "outputs": [],
   "source": [
    "# Calculate class priors\n",
    "priors = dict()\n",
    "for val in np.unique(Y):\n",
    "    priors[val] = float(separated[val].shape[0]) / train.shape[0]"
   ]
  },
  {
   "cell_type": "code",
   "execution_count": 7,
   "metadata": {
    "collapsed": false
   },
   "outputs": [],
   "source": [
    "# Calculate class conditional mean and standard deviation\n",
    "summaries = dict()\n",
    "for val in np.unique(Y):\n",
    "    summaries[val] = [separated[val].apply(lambda x: np.mean(x)),separated[val].apply(lambda x: np.std(x))]"
   ]
  },
  {
   "cell_type": "code",
   "execution_count": 8,
   "metadata": {
    "collapsed": true
   },
   "outputs": [],
   "source": [
    "# Calculate class conditional standard deviation for each column\n",
    "std = dict()\n",
    "for val in np.unique(Y):\n",
    "    std[val] = X.apply(lambda x: np.std(x))"
   ]
  },
  {
   "cell_type": "code",
   "execution_count": 9,
   "metadata": {
    "collapsed": true
   },
   "outputs": [],
   "source": [
    "# Create a function to return the normal density\n",
    "import math\n",
    "def calculate_density(x,mean, std):\n",
    "    exponential = np.exp(-math.pow(x-mean,2)/(2*math.pow(std,2)))\n",
    "    return math.pow(2*math.pi*math.pow(std,2),-0.5)*exponential    "
   ]
  },
  {
   "cell_type": "code",
   "execution_count": 10,
   "metadata": {
    "collapsed": true
   },
   "outputs": [],
   "source": [
    "def calculate_class_probability(summaries, inputRow):\n",
    "    columns = inputRow.index\n",
    "    probabilities = {}\n",
    "    for val in summaries.keys():\n",
    "        probabilities[val] = priors[val]\n",
    "        for col in columns:\n",
    "            mean = summaries[val][0][col]\n",
    "            std = summaries[val][1][col]\n",
    "            probabilities[val] *= calculate_density(inputRow[col], mean, std)\n",
    "    \n",
    "    return probabilities\n",
    "    "
   ]
  },
  {
   "cell_type": "code",
   "execution_count": 11,
   "metadata": {
    "collapsed": false
   },
   "outputs": [],
   "source": [
    "# Create a function to predict\n",
    "def pickWinner(probabilities):\n",
    "    return max(probabilities, key=probabilities.get)"
   ]
  },
  {
   "cell_type": "code",
   "execution_count": 15,
   "metadata": {
    "collapsed": false
   },
   "outputs": [],
   "source": [
    "prob = calculate_class_probability(summaries, X.ix[3])"
   ]
  },
  {
   "cell_type": "code",
   "execution_count": 16,
   "metadata": {
    "collapsed": false
   },
   "outputs": [
    {
     "name": "stdout",
     "output_type": "stream",
     "text": [
      "{0: 2.5944757542381952e-12, 1: 6.4638163177707377e-14}\n"
     ]
    }
   ],
   "source": [
    "print prob"
   ]
  },
  {
   "cell_type": "code",
   "execution_count": 14,
   "metadata": {
    "collapsed": false
   },
   "outputs": [
    {
     "name": "stdout",
     "output_type": "stream",
     "text": [
      "0\n"
     ]
    }
   ],
   "source": [
    "print pickWinner(prob)"
   ]
  },
  {
   "cell_type": "code",
   "execution_count": 38,
   "metadata": {
    "collapsed": true
   },
   "outputs": [],
   "source": [
    "q = X"
   ]
  },
  {
   "cell_type": "code",
   "execution_count": 39,
   "metadata": {
    "collapsed": false
   },
   "outputs": [],
   "source": [
    "preds = X.apply(lambda x: pickWinner(calculate_class_probability(summaries, x)), axis = 1)"
   ]
  },
  {
   "cell_type": "code",
   "execution_count": 40,
   "metadata": {
    "collapsed": false
   },
   "outputs": [
    {
     "name": "stdout",
     "output_type": "stream",
     "text": [
      "0.348958333333\n"
     ]
    }
   ],
   "source": [
    "print np.mean(df['Class'])"
   ]
  },
  {
   "cell_type": "code",
   "execution_count": 41,
   "metadata": {
    "collapsed": false
   },
   "outputs": [
    {
     "name": "stdout",
     "output_type": "stream",
     "text": [
      "0.379160636758\n"
     ]
    }
   ],
   "source": [
    "print np.mean(preds)"
   ]
  },
  {
   "cell_type": "code",
   "execution_count": 37,
   "metadata": {
    "collapsed": false
   },
   "outputs": [
    {
     "name": "stdout",
     "output_type": "stream",
     "text": [
      "253    0\n",
      "499    1\n",
      "429    0\n",
      "0      1\n",
      "37     1\n",
      "751    0\n",
      "685    0\n",
      "24     1\n",
      "626    0\n",
      "606    1\n",
      "dtype: int64\n"
     ]
    }
   ],
   "source": [
    "print preds"
   ]
  },
  {
   "cell_type": "code",
   "execution_count": null,
   "metadata": {
    "collapsed": true
   },
   "outputs": [],
   "source": []
  }
 ],
 "metadata": {
  "kernelspec": {
   "display_name": "Python 2",
   "language": "python",
   "name": "python2"
  },
  "language_info": {
   "codemirror_mode": {
    "name": "ipython",
    "version": 2
   },
   "file_extension": ".py",
   "mimetype": "text/x-python",
   "name": "python",
   "nbconvert_exporter": "python",
   "pygments_lexer": "ipython2",
   "version": "2.7.11"
  }
 },
 "nbformat": 4,
 "nbformat_minor": 0
}
